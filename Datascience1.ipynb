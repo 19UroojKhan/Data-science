{
  "nbformat": 4,
  "nbformat_minor": 0,
  "metadata": {
    "colab": {
      "name": "Datascience1.ipynb",
      "provenance": []
    },
    "kernelspec": {
      "name": "python3",
      "display_name": "Python 3"
    }
  },
  "cells": [
    {
      "cell_type": "code",
      "metadata": {
        "id": "uT8VkPgsbQBS"
      },
      "source": [
        "ans 1: Rainbow\n"
      ],
      "execution_count": null,
      "outputs": []
    },
    {
      "cell_type": "markdown",
      "metadata": {
        "id": "fKHNW5sub5JW"
      },
      "source": [
        "ans 2:"
      ]
    },
    {
      "cell_type": "code",
      "metadata": {
        "id": "zXWYLX6gb4Xe",
        "outputId": "90871a91-f049-442e-c2ad-ce58068e2a73",
        "colab": {
          "base_uri": "https://localhost:8080/"
        }
      },
      "source": [
        "print(\"LETS UPGRADE\")"
      ],
      "execution_count": 1,
      "outputs": [
        {
          "output_type": "stream",
          "text": [
            "LETS UPGRADE\n"
          ],
          "name": "stdout"
        }
      ]
    },
    {
      "cell_type": "markdown",
      "metadata": {
        "id": "3crwosRVb3DM"
      },
      "source": [
        "ans 3:\n"
      ]
    },
    {
      "cell_type": "code",
      "metadata": {
        "id": "75xIgsneik4v",
        "outputId": "a4dabf46-0d1f-4ccf-f931-1b0e0fba324b",
        "colab": {
          "base_uri": "https://localhost:8080/"
        }
      },
      "source": [
        "CP=float(input(\"Cost price:\"))\n",
        "SP=float(input(\"Selling Price:\"))\n",
        "if(SP>CP):\n",
        "  amount=SP-CP\n",
        "  print(\"Profit\")\n",
        "elif(CP>SP):\n",
        "    amount=CP-SP\n",
        "    print(\"Loss\")\n",
        "else:\n",
        "  print(\"Neither\")\n"
      ],
      "execution_count": 18,
      "outputs": [
        {
          "output_type": "stream",
          "text": [
            "Cost price:19\n",
            "Selling Price:95\n",
            "Profit\n"
          ],
          "name": "stdout"
        }
      ]
    },
    {
      "cell_type": "markdown",
      "metadata": {
        "id": "JGpfhtF2bzat"
      },
      "source": [
        "ans 4:"
      ]
    },
    {
      "cell_type": "code",
      "metadata": {
        "id": "zh_e3cactJV3",
        "outputId": "af53f03d-3027-4a46-aae8-82c3a40ee367",
        "colab": {
          "base_uri": "https://localhost:8080/"
        }
      },
      "source": [
        "Euro=float(input(\"amount in euro:\"))\n",
        "Rupees=Euro *80\n",
        "print(Rupees)"
      ],
      "execution_count": 30,
      "outputs": [
        {
          "output_type": "stream",
          "text": [
            "amount in euro:18\n",
            "1440.0\n"
          ],
          "name": "stdout"
        }
      ]
    },
    {
      "cell_type": "code",
      "metadata": {
        "id": "0sIY2vj1tTFm"
      },
      "source": [
        ""
      ],
      "execution_count": null,
      "outputs": []
    }
  ]
}